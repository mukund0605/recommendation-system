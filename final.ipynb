{
 "cells": [
  {
   "cell_type": "markdown",
   "metadata": {
    "id": "s75VZA0VBB4I"
   },
   "source": [
    "# **ML-Prototype**"
   ]
  },
  {
   "cell_type": "markdown",
   "metadata": {
    "id": "fzq9iBViHCMu"
   },
   "source": [
    "###dependencies"
   ]
  },
  {
   "cell_type": "code",
   "execution_count": null,
   "metadata": {
    "id": "7PjjWaR1Hfk0"
   },
   "outputs": [],
   "source": [
    "import pandas as pd\n",
    "import numpy as np\n",
    "from sklearn.feature_extraction.text import TfidfVectorizer\n",
    "from sklearn.metrics.pairwise import linear_kernel\n"
   ]
  },
  {
   "cell_type": "code",
   "execution_count": null,
   "metadata": {
    "id": "eUf_f41ZM8ok"
   },
   "outputs": [],
   "source": [
    "df_courses= pd.read_csv(\"Coursesdatabase.csv\")\n"
   ]
  },
  {
   "cell_type": "code",
   "execution_count": null,
   "metadata": {
    "colab": {
     "base_uri": "https://localhost:8080/",
     "height": 654
    },
    "id": "8CSvka6xNNz1",
    "outputId": "e97cc468-4635-4685-d847-15c4f323b324"
   },
   "outputs": [],
   "source": [
    "df_courses.head()\n",
    "\n"
   ]
  },
  {
   "cell_type": "code",
   "execution_count": null,
   "metadata": {
    "colab": {
     "base_uri": "https://localhost:8080/"
    },
    "id": "srJANCWqQPDG",
    "outputId": "bac6bd73-1de2-4225-deb4-cae259371992"
   },
   "outputs": [],
   "source": [
    "df_courses['Course Name']\n"
   ]
  },
  {
   "cell_type": "code",
   "execution_count": null,
   "metadata": {
    "id": "9R-oiIRvSV4s"
   },
   "outputs": [],
   "source": [
    "tfidf =TfidfVectorizer(stop_words =\"english\")\n",
    "df_courses['Course Name']=df_courses['Course Name'].fillna(\" \")\n",
    "\n",
    "\n",
    "tfidf_matrix = tfidf.fit_transform(df_courses['Course Name'])"
   ]
  },
  {
   "cell_type": "markdown",
   "metadata": {
    "id": "JbFUhZ0PTFfX"
   },
   "source": []
  },
  {
   "cell_type": "code",
   "execution_count": null,
   "metadata": {
    "id": "vkHOyT3QVQmx"
   },
   "outputs": [],
   "source": [
    "cosine_sim=linear_kernel(tfidf_matrix,tfidf_matrix)"
   ]
  },
  {
   "cell_type": "code",
   "execution_count": null,
   "metadata": {
    "id": "9onMrzOxc0JL"
   },
   "outputs": [],
   "source": [
    "indices=pd.Series(df_courses.index,index=df_courses['Course Name']).drop_duplicates()"
   ]
  },
  {
   "cell_type": "code",
   "execution_count": null,
   "metadata": {
    "colab": {
     "base_uri": "https://localhost:8080/"
    },
    "id": "bzREScTEdsPt",
    "outputId": "218ebf6b-44ad-4de2-c95d-c39f3283d9f5"
   },
   "outputs": [],
   "source": [
    "indices['Finance for Managers']"
   ]
  },
  {
   "cell_type": "code",
   "execution_count": null,
   "metadata": {
    "id": "uy1FtU49W4ac"
   },
   "outputs": [],
   "source": [
    "def get_recommendation(cosine_sim = cosine_sim):\n",
    "    course_name = input(\"Enter the name of the course: \")\n",
    "    try:\n",
    "        idx = indices[course_name]\n",
    "    except KeyError:\n",
    "        print(\"Course not found. Please enter a valid course name.\")\n",
    "        return\n",
    "\n",
    "    print(\"Index found:\", idx)  # Debug print\n",
    "\n",
    "    sim_scores = enumerate(cosine_sim[idx])\n",
    "    sim_scores = sorted(sim_scores, key=lambda x: x[1], reverse=True)\n",
    "    sim_scores = sim_scores[1:11]\n",
    "\n",
    "    print(\"Similarity scores:\", sim_scores)  # Debug print\n",
    "\n",
    "    sim_index = [i[0] for i in sim_scores]\n",
    "    recommended_titles = df_courses['Course Name'].iloc[sim_index]\n",
    "    recommended_urls = df_courses['Course URL'].iloc[sim_index]\n",
    "\n",
    "    for course_name, url in zip(recommended_titles, recommended_urls):\n",
    "        print(f\"Course Name: {course_name}\\nCourse URL: {url}\\n\")\n",
    "\n",
    "\n",
    "\n"
   ]
  },
  {
   "cell_type": "code",
   "execution_count": null,
   "metadata": {
    "colab": {
     "base_uri": "https://localhost:8080/"
    },
    "id": "uWRKMyH9RXhy",
    "outputId": "1d5bc69c-7dd3-4ae5-da50-f100a5970e83"
   },
   "outputs": [],
   "source": [
    "get_recommendation()"
   ]
  },
  {
   "cell_type": "code",
   "execution_count": null,
   "metadata": {},
   "outputs": [],
   "source": []
  }
 ],
 "metadata": {
  "colab": {
   "provenance": []
  },
  "kernelspec": {
   "display_name": "Python 3 (ipykernel)",
   "language": "python",
   "name": "python3"
  },
  "language_info": {
   "codemirror_mode": {
    "name": "ipython",
    "version": 3
   },
   "file_extension": ".py",
   "mimetype": "text/x-python",
   "name": "python",
   "nbconvert_exporter": "python",
   "pygments_lexer": "ipython3",
   "version": "3.12.0"
  }
 },
 "nbformat": 4,
 "nbformat_minor": 4
}
